{
 "cells": [
  {
   "cell_type": "code",
   "execution_count": null,
   "metadata": {},
   "outputs": [],
   "source": [
    "# Utilizando operadores aritmeticos\n",
    "# Ejercicio 1\n",
    "d_tierra=149597870\n",
    "d_jupiter=778547200\n",
    "d_planetas=d_jupiter-d_tierra\n",
    "d_planetas_millas=d_planetas*0.621\n",
    "print(d_planetas,d_planetas_millas)\n"
   ]
  },
  {
   "cell_type": "code",
   "execution_count": null,
   "metadata": {},
   "outputs": [],
   "source": [
    "# Ejercicio 2\n",
    "d_planeta1=int(input('Distancia planeta 1: '))\n",
    "d_planeta2=int(input('Distancia planeta 2: '))\n",
    "d_planetas=abs(d_planeta2-d_planeta1)\n",
    "d_planetas_millas=d_planetas*0.621\n",
    "print(d_planetas,d_planetas_millas)\n"
   ]
  }
 ],
 "metadata": {
  "interpreter": {
   "hash": "6e82c4c6859ff44c5ac5d0b812fe5a23106e52b81a5db5555ef903c501738654"
  },
  "kernelspec": {
   "display_name": "Python 3.10.1 64-bit",
   "language": "python",
   "name": "python3"
  },
  "language_info": {
   "codemirror_mode": {
    "name": "ipython",
    "version": 3
   },
   "file_extension": ".py",
   "mimetype": "text/x-python",
   "name": "python",
   "nbconvert_exporter": "python",
   "pygments_lexer": "ipython3",
   "version": "3.10.1"
  },
  "orig_nbformat": 4
 },
 "nbformat": 4,
 "nbformat_minor": 2
}
