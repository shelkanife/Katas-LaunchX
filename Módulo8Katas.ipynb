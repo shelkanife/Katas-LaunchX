{
 "cells": [
  {
   "cell_type": "code",
   "execution_count": null,
   "metadata": {},
   "outputs": [],
   "source": [
    "# Ejercicio 1\n",
    "planet={\n",
    "    \"name\":'Mars',\n",
    "    \"moons\":2\n",
    "}\n",
    "print(planet.get('name'),planet.get('moons'))\n",
    "planet['polar']=6752\n",
    "planet.update({\"equatorial\":6792})\n",
    "print(planet['name'],planet.get('polar'))"
   ]
  },
  {
   "cell_type": "code",
   "execution_count": null,
   "metadata": {},
   "outputs": [],
   "source": [
    "# Ejercicio 2\n",
    "planet_moons = {\n",
    "    'mercury': 0,\n",
    "    'venus': 0,\n",
    "    'earth': 1,\n",
    "    'mars': 2,\n",
    "    'jupiter': 79,\n",
    "    'saturn': 82,\n",
    "    'uranus': 27,\n",
    "    'neptune': 14,\n",
    "    'pluto': 5,\n",
    "    'haumea': 2,\n",
    "    'makemake': 1,\n",
    "    'eris': 1\n",
    "}\n",
    "moons=planet_moons.values()\n",
    "planet=len(planet_moons.keys())\n",
    "total_moons=0\n",
    "for moon in moons: total_moons+=moon\n",
    "avg_moons=total_moons/planet\n",
    "print('# de lunas: {} \\npromedio de lunas por planeta: {}'.format(total_moons,avg_moons))"
   ]
  }
 ],
 "metadata": {
  "interpreter": {
   "hash": "346362102b7552e91385457e3bb81cf6a30a33df4987af1bb84d68a48aef1f8e"
  },
  "kernelspec": {
   "display_name": "Python 3.9.10 64-bit (windows store)",
   "language": "python",
   "name": "python3"
  },
  "language_info": {
   "codemirror_mode": {
    "name": "ipython",
    "version": 3
   },
   "file_extension": ".py",
   "mimetype": "text/x-python",
   "name": "python",
   "nbconvert_exporter": "python",
   "pygments_lexer": "ipython3",
   "version": "3.10.1"
  },
  "orig_nbformat": 4
 },
 "nbformat": 4,
 "nbformat_minor": 2
}
