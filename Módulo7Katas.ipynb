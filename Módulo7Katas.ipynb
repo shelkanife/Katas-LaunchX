{
 "cells": [
  {
   "cell_type": "code",
   "execution_count": 5,
   "metadata": {},
   "outputs": [],
   "source": [
    "# Ejercicio 1\n",
    "new_planet=input('Introduce el nombre del planeta')\n",
    "planets=[]\n",
    "while new_planet != 'done' or (new_planet != 'DONE'):\n",
    "    planets.append(new_planet)\n",
    "    new_planet=input('Introduce el nombre del planeta')"
   ]
  },
  {
   "cell_type": "code",
   "execution_count": null,
   "metadata": {},
   "outputs": [],
   "source": [
    "# Ejercicio 2\n",
    "for planet in planets:\n",
    "    print(planet)"
   ]
  }
 ],
 "metadata": {
  "interpreter": {
   "hash": "346362102b7552e91385457e3bb81cf6a30a33df4987af1bb84d68a48aef1f8e"
  },
  "kernelspec": {
   "display_name": "Python 3.9.10 64-bit (windows store)",
   "language": "python",
   "name": "python3"
  },
  "language_info": {
   "codemirror_mode": {
    "name": "ipython",
    "version": 3
   },
   "file_extension": ".py",
   "mimetype": "text/x-python",
   "name": "python",
   "nbconvert_exporter": "python",
   "pygments_lexer": "ipython3",
   "version": "3.10.1"
  },
  "orig_nbformat": 4
 },
 "nbformat": 4,
 "nbformat_minor": 2
}
