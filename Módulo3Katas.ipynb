{
 "cells": [
  {
   "cell_type": "code",
   "execution_count": null,
   "metadata": {},
   "outputs": [],
   "source": [
    "# Escribir declaraciones if,else y elif\n",
    "velocidad=49\n",
    "if velocidad > 25:\n",
    "    print('Advertencia')\n",
    "else:\n",
    "    print('Todo OK')"
   ]
  },
  {
   "cell_type": "code",
   "execution_count": null,
   "metadata": {},
   "outputs": [],
   "source": [
    "velocidad=19\n",
    "if velocidad >= 20:\n",
    "    print('Busca en el cielo!')\n",
    "else:\n",
    "    print('Aun no hay nada')"
   ]
  },
  {
   "cell_type": "code",
   "execution_count": null,
   "metadata": {},
   "outputs": [],
   "source": [
    "velocidad=25\n",
    "tamanio=60\n",
    "\n",
    "if velocidad > 25 and tamanio > 25:\n",
    "    print('Advertencia!')\n",
    "elif velocidad >= 20:\n",
    "    print('Busca en el cielo!')\n",
    "elif tamanio < 25:\n",
    "    print('Aun no hay nada')\n",
    "else:\n",
    "    print('Aun no hay nada')"
   ]
  }
 ],
 "metadata": {
  "interpreter": {
   "hash": "6e82c4c6859ff44c5ac5d0b812fe5a23106e52b81a5db5555ef903c501738654"
  },
  "kernelspec": {
   "display_name": "Python 3.10.1 64-bit",
   "language": "python",
   "name": "python3"
  },
  "language_info": {
   "codemirror_mode": {
    "name": "ipython",
    "version": 3
   },
   "file_extension": ".py",
   "mimetype": "text/x-python",
   "name": "python",
   "nbconvert_exporter": "python",
   "pygments_lexer": "ipython3",
   "version": "3.10.1"
  },
  "orig_nbformat": 4
 },
 "nbformat": 4,
 "nbformat_minor": 2
}
