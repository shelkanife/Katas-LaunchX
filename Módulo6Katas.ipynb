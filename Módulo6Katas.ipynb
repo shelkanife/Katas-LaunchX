{
 "cells": [
  {
   "cell_type": "code",
   "execution_count": null,
   "metadata": {},
   "outputs": [],
   "source": [
    "# Crear y usar listas en python\n",
    "# Ejercicio 1\n",
    "planets=['mercurio','venus','tierra','marte','jupiter','saturno','urano','neptuno']\n",
    "print('Numero de planetas: ',len(planets))\n",
    "planets.append('pluton')\n",
    "print('Ultimo planeta agregado: ',planets[-1],' Numero de planetas: ',len(planets))"
   ]
  },
  {
   "cell_type": "code",
   "execution_count": null,
   "metadata": {},
   "outputs": [],
   "source": [
    "# Ejercicio 2\n",
    "planets = ['Mercury', 'Venus', 'Earth', 'Mars', 'Jupiter', 'Saturn', 'Neptune']\n",
    "nombre_planeta=input('Ingrese el nombre del planeta inciando con mayuscula: ')\n",
    "indice_planeta=planets.index(nombre_planeta)\n",
    "print(f'planetas mas cercanos al que usted ingreso: {planets[:indice_planeta]}')\n",
    "print(f'planetas mas lejanos al que usted ingreso: {planets[indice_planeta+1:]}')\n"
   ]
  }
 ],
 "metadata": {
  "interpreter": {
   "hash": "6e82c4c6859ff44c5ac5d0b812fe5a23106e52b81a5db5555ef903c501738654"
  },
  "kernelspec": {
   "display_name": "Python 3.10.1 64-bit",
   "language": "python",
   "name": "python3"
  },
  "language_info": {
   "codemirror_mode": {
    "name": "ipython",
    "version": 3
   },
   "file_extension": ".py",
   "mimetype": "text/x-python",
   "name": "python",
   "nbconvert_exporter": "python",
   "pygments_lexer": "ipython3",
   "version": "3.10.1"
  },
  "orig_nbformat": 4
 },
 "nbformat": 4,
 "nbformat_minor": 2
}
