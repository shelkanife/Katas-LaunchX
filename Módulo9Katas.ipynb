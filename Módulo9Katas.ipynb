{
 "cells": [
  {
   "cell_type": "code",
   "execution_count": null,
   "metadata": {},
   "outputs": [],
   "source": [
    "# Ejercicio 1\n",
    "def informar(t1,t2,t3):\n",
    "    avg_t=(t1+t2+t3)/3\n",
    "    return f\"\"\"Informe:\\n\n",
    "    promedio de tanques: {avg_t}\n",
    "    cantidad t1:{t1}\n",
    "    cantidad t2:{t2}\n",
    "    cantidad t3:{t3}\"\"\"\n",
    "print(informar(10,35,23))\n",
    "\n",
    "def promedio(lst_valores):\n",
    "    len_valores=len(lst_valores)\n",
    "    suma=0\n",
    "    for val in lst_valores: suma+=val\n",
    "    return suma/len_valores\n",
    "\n",
    "#modificacion\n",
    "def informar(t1,t2,t3):\n",
    "    avg_t=promedio([t1,t2,t3])\n",
    "    return f\"\"\"Informe:\\n\n",
    "    promedio de tanques: {avg_t}\n",
    "    cantidad t1:{t1}\n",
    "    cantidad t2:{t2}\n",
    "    cantidad t3:{t3}\"\"\"\n",
    "print(informar(10,35,23))"
   ]
  },
  {
   "cell_type": "code",
   "execution_count": null,
   "metadata": {},
   "outputs": [],
   "source": [
    "# Ejercicio 2\n",
    "def informar_preciso(prelanzamiento,tiempo_de_vuelo,destino,tanque_externo,tanque_interno):\n",
    "    return f\"\"\"\n",
    "    Informe preciso:\n",
    "    Destino: {destino}\n",
    "    Tiempo de vuelo: {tiempo_de_vuelo+prelanzamiento}\n",
    "    Catidad de combustible: {tanque_externo+tanque_interno}\n",
    "    \"\"\"\n",
    "print(informar_preciso(8,12,'Jupiter',12,9))"
   ]
  },
  {
   "cell_type": "code",
   "execution_count": null,
   "metadata": {},
   "outputs": [],
   "source": [
    "def informar_preciso_2(destino,*tiempo_de_vuelo,**cantidad_combustible):\n",
    "    return f\"\"\"\n",
    "    Informe preciso:\n",
    "    Destino: {destino}\n",
    "    Tiempo de vuelo: {sum(tiempo_de_vuelo)}\n",
    "    Catidad de combustible: {sum(cantidad_combustible.values())}\n",
    "    \"\"\"\n",
    "print(informar_preciso_2('Saturno',12,23,12,32,interno=12,externo=6))\n",
    "\n",
    "#modificada\n",
    "def informar_preciso_2(destino,*tiempo_de_vuelo,**cantidad_combustible):\n",
    "    reporte=f\"\"\"\n",
    "    Informe preciso:\n",
    "    Destino: {destino}\n",
    "    Tiempo de vuelo: {sum(tiempo_de_vuelo)}\n",
    "    Catidad de combustible:\n",
    "    \"\"\"\n",
    "    for tanque,cantidad in cantidad_combustible.items():\n",
    "        reporte+=f'\\t{tanque}: {cantidad}'\n",
    "    return reporte\n",
    "    \n",
    "print(informar_preciso_2('Saturno',12,23,12,32,interno=12,externo=6,hidrogeno=23))"
   ]
  }
 ],
 "metadata": {
  "interpreter": {
   "hash": "6e82c4c6859ff44c5ac5d0b812fe5a23106e52b81a5db5555ef903c501738654"
  },
  "kernelspec": {
   "display_name": "Python 3.10.1 64-bit",
   "language": "python",
   "name": "python3"
  },
  "language_info": {
   "codemirror_mode": {
    "name": "ipython",
    "version": 3
   },
   "file_extension": ".py",
   "mimetype": "text/x-python",
   "name": "python",
   "nbconvert_exporter": "python",
   "pygments_lexer": "ipython3",
   "version": "3.10.1"
  },
  "orig_nbformat": 4
 },
 "nbformat": 4,
 "nbformat_minor": 2
}
