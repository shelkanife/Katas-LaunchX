{
 "cells": [
  {
   "cell_type": "code",
   "execution_count": null,
   "metadata": {},
   "outputs": [],
   "source": [
    "#   MANEJO DE ERRORES\n",
    "# creacion del error FileNotFoundError\n",
    "# def main():\n",
    "#     img_mars=open('/images/mars.jpg')\n",
    "# if __name__ == '__main__':\n",
    "#     main()\n",
    "# bloques try except para el error FileNotFoundError\n",
    "def main():\n",
    "    try:\n",
    "        img_mars=open('/images/mars.jpg')\n",
    "    except FileNotFoundError:\n",
    "        print('El archivo no existe')\n",
    "if __name__ == '__main__':\n",
    "    main()\n",
    "# creacio de except para IsADirectoryError\n",
    "def main():\n",
    "    try:\n",
    "        img_mars=open('./mars.txt')\n",
    "    except IsADirectoryError:\n",
    "        print('El archivo es un directorio')\n",
    "    except PermissionError:\n",
    "        print('No tienes los permisos necesarios')\n",
    "if __name__ == '__main__':\n",
    "    main()\n",
    "# mostrar mensaje en except\n",
    "def main():\n",
    "    try:\n",
    "        img_mars=open('./mars.txt')\n",
    "    except IsADirectoryError:\n",
    "        print('El archivo es un directorio')\n",
    "    except PermissionError as err:\n",
    "        print('No tienes los permisos necesarios',err)\n",
    "if __name__ == '__main__':\n",
    "    main()"
   ]
  },
  {
   "cell_type": "code",
   "execution_count": null,
   "metadata": {},
   "outputs": [],
   "source": [
    "#   CREACION DE ERRORES\n",
    "def agua_sobrante(astronautas,agua_sobrante,dias_sobrantes):\n",
    "    uso_diario = astronautas * 11\n",
    "    uso_total = uso_diario * dias_sobrantes\n",
    "    total_agua_sobrante = agua_sobrante - uso_total\n",
    "    return f\"El total de agua sobrante despues {dias_sobrantes} dias es: {total_agua_sobrante} litros\"\n",
    "\n",
    "# Error al mostrar nimeros negativos\n",
    "def agua_sobrante(astronautas,agua_sobrante,dias_sobrantes):\n",
    "    uso_diario = astronautas * 11\n",
    "    uso_total = uso_diario * dias_sobrantes\n",
    "    total_agua_sobrante = agua_sobrante - uso_total\n",
    "    if total_agua_sobrante < 0:\n",
    "        raise RuntimeError(f'Falta de agua ({total_agua_sobrante}) para el numero de astronautas ({astronautas})')\n",
    "    return f\"El total de agua sobrante despues {dias_sobrantes} dias es: {total_agua_sobrante} litros\"\n",
    "try:\n",
    "    print(agua_sobrante(2,22,2))\n",
    "except RuntimeError as err:\n",
    "    print(err)\n",
    "\n",
    "# error en el tipo de parametros\n",
    "def agua_sobrante(astronautas,agua_sobrante,dias_sobrantes):\n",
    "    if not isinstance(astronautas,int) or not isinstance(agua_sobrante,int) or not isinstance(dias_sobrantes,int):\n",
    "        raise TypeError(f'El tipo de datos debe de ser perteneciente a la clase int')    \n",
    "    \n",
    "    uso_diario = astronautas * 11\n",
    "    uso_total = uso_diario * dias_sobrantes\n",
    "    total_agua_sobrante = agua_sobrante - uso_total\n",
    "    if total_agua_sobrante < 0:\n",
    "        raise RuntimeError(f'Falta de agua ({total_agua_sobrante}) para el numero de astronautas ({astronautas})')\n",
    "    return f\"El total de agua sobrante despues {dias_sobrantes} dias es: {total_agua_sobrante} litros\"\n",
    "try:\n",
    "    print(agua_sobrante(\"2\",22,2))\n",
    "except TypeError as err:\n",
    "    print(err)"
   ]
  }
 ],
 "metadata": {
  "interpreter": {
   "hash": "6e82c4c6859ff44c5ac5d0b812fe5a23106e52b81a5db5555ef903c501738654"
  },
  "kernelspec": {
   "display_name": "Python 3.10.1 64-bit",
   "language": "python",
   "name": "python3"
  },
  "language_info": {
   "codemirror_mode": {
    "name": "ipython",
    "version": 3
   },
   "file_extension": ".py",
   "mimetype": "text/x-python",
   "name": "python",
   "nbconvert_exporter": "python",
   "pygments_lexer": "ipython3",
   "version": "3.10.1"
  },
  "orig_nbformat": 4
 },
 "nbformat": 4,
 "nbformat_minor": 2
}
