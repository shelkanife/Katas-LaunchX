{
 "cells": [
  {
   "cell_type": "code",
   "execution_count": null,
   "metadata": {},
   "outputs": [],
   "source": [
    "# Transformar cadenas\n",
    "# Ejercicio 1\n",
    "text=\"Interesting facts about the Moon. The Moon is Earth's only satellite. There are several interesting facts about the Moon and how it affects life here on Earth. On average, the Moon moves 4cm away from the Earth every year. This yearly drift is not significant enough to cause immediate effects on Earth. The highest daylight temperature of the Moon is 127 C.\"\n",
    "oraciones=text.split('. ')\n",
    "palabras_clave='average','temperature','distance'\n",
    "\n",
    "# - Parte 1\n",
    "# for oracion in oraciones:\n",
    "#     for palabra_clave in palabras_clave:\n",
    "#         if palabra_clave in oracion:\n",
    "#             # print(oracion)\n",
    "#             print(oracion.replace('C','Celcius'))\n",
    "#             break\n",
    "# - Parte 2\n",
    "for oracion in oraciones:\n",
    "    if 'C' in oracion:\n",
    "        oracion=oracion.replace('C','Celsius')\n",
    "print(oraciones[-1]) "
   ]
  },
  {
   "cell_type": "code",
   "execution_count": null,
   "metadata": {},
   "outputs": [],
   "source": [
    "# Ejercicio 2\n",
    "# Datos con los que vas a trabajar\n",
    "name = \"Moon\"\n",
    "gravity = 0.00162 # in kms\n",
    "planet = \"Earth\"\n",
    "# Titulo\n",
    "titulo=f'Gravity Facts about {name}'\n",
    "# Plantilla\n",
    "informacion=f\"\"\"\n",
    "{'-'*16}\n",
    "Planet name: {planet}\n",
    "Gravity on {planet} = {gravity * 1000} m/s2\"\"\"\n",
    "union=f\"\"\"\n",
    "{titulo.title()}\n",
    "{informacion}\n",
    "\"\"\"\n",
    "print(union)\n",
    "\n",
    "planeta = 'Marte '\n",
    "gravedad  = 0.00143\n",
    "nombre = 'Ganímedes'\n",
    "new_template = \"\"\"\n",
    "Datos de Gravedad sobre: {nombre}\n",
    "-------------------------------------------------------------------------------\n",
    "Nombre del planeta: {planeta}\n",
    "Gravedad en {nombre}: {gravedad} m/s2\n",
    "\"\"\"\n",
    "print(new_template.format(nombre=nombre, planeta=planeta, gravedad=gravedad*1000))"
   ]
  }
 ],
 "metadata": {
  "interpreter": {
   "hash": "6e82c4c6859ff44c5ac5d0b812fe5a23106e52b81a5db5555ef903c501738654"
  },
  "kernelspec": {
   "display_name": "Python 3.10.1 64-bit",
   "language": "python",
   "name": "python3"
  },
  "language_info": {
   "codemirror_mode": {
    "name": "ipython",
    "version": 3
   },
   "file_extension": ".py",
   "mimetype": "text/x-python",
   "name": "python",
   "nbconvert_exporter": "python",
   "pygments_lexer": "ipython3",
   "version": "3.10.1"
  },
  "orig_nbformat": 4
 },
 "nbformat": 4,
 "nbformat_minor": 2
}
